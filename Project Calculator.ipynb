{
 "cells": [
  {
   "cell_type": "code",
   "execution_count": 10,
   "id": "f115bcef",
   "metadata": {},
   "outputs": [
    {
     "name": "stdout",
     "output_type": "stream",
     "text": [
      "enter first number:2\n",
      "enter operator(+,-,*,/,%):*\n",
      "enter second number:2\n",
      "4\n"
     ]
    }
   ],
   "source": [
    "first = input(\"enter first number:\")\n",
    "operator = input(\"enter operator(+,-,*,/,%):\")\n",
    "second = input(\"enter second number:\")\n",
    "\n",
    "first= int(first)\n",
    "second= int(second)\n",
    "\n",
    "\n",
    "\n",
    "if operator == \"+\":\n",
    "    print (first + second)\n",
    "\n",
    "elif operator == \"-\":\n",
    "    print (first - second) \n",
    "    \n",
    "elif operator == \"*\":\n",
    "    print (first * second) \n",
    "    \n",
    "elif operator == \"/\":\n",
    "    print (first / second) \n",
    "    \n",
    "elif operator == \"%\":\n",
    "    print (first % second)\n",
    "    \n",
    "else:\n",
    "    print(\"Invalid number\")    "
   ]
  },
  {
   "cell_type": "code",
   "execution_count": null,
   "id": "5a86a9c6",
   "metadata": {},
   "outputs": [],
   "source": []
  },
  {
   "cell_type": "code",
   "execution_count": null,
   "id": "6d09d87e",
   "metadata": {},
   "outputs": [],
   "source": []
  },
  {
   "cell_type": "code",
   "execution_count": null,
   "id": "b496985e",
   "metadata": {},
   "outputs": [],
   "source": []
  },
  {
   "cell_type": "code",
   "execution_count": null,
   "id": "073bc810",
   "metadata": {},
   "outputs": [],
   "source": []
  },
  {
   "cell_type": "code",
   "execution_count": null,
   "id": "44559a5c",
   "metadata": {},
   "outputs": [],
   "source": []
  },
  {
   "cell_type": "code",
   "execution_count": null,
   "id": "73140a0e",
   "metadata": {},
   "outputs": [],
   "source": []
  },
  {
   "cell_type": "code",
   "execution_count": null,
   "id": "13f2d6be",
   "metadata": {},
   "outputs": [],
   "source": []
  },
  {
   "cell_type": "code",
   "execution_count": null,
   "id": "fd1a236e",
   "metadata": {},
   "outputs": [],
   "source": []
  }
 ],
 "metadata": {
  "kernelspec": {
   "display_name": "Python 3 (ipykernel)",
   "language": "python",
   "name": "python3"
  },
  "language_info": {
   "codemirror_mode": {
    "name": "ipython",
    "version": 3
   },
   "file_extension": ".py",
   "mimetype": "text/x-python",
   "name": "python",
   "nbconvert_exporter": "python",
   "pygments_lexer": "ipython3",
   "version": "3.11.4"
  }
 },
 "nbformat": 4,
 "nbformat_minor": 5
}
